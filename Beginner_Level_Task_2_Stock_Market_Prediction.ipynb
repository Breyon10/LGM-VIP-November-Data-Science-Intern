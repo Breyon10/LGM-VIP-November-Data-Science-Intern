{
  "nbformat": 4,
  "nbformat_minor": 0,
  "metadata": {
    "colab": {
      "name": "Beginner Level Task 2 Stock Market Prediction.ipynb",
      "provenance": [],
      "authorship_tag": "ABX9TyOviInwCgldlrpU/rMml18R",
      "include_colab_link": true
    },
    "kernelspec": {
      "name": "python3",
      "display_name": "Python 3"
    },
    "language_info": {
      "name": "python"
    }
  },
  "cells": [
    {
      "cell_type": "markdown",
      "metadata": {
        "id": "view-in-github",
        "colab_type": "text"
      },
      "source": [
        "<a href=\"https://colab.research.google.com/github/Breyon10/LGM-VIP-November-Data-Science-Intern/blob/main/Beginner_Level_Task_2_Stock_Market_Prediction.ipynb\" target=\"_parent\"><img src=\"https://colab.research.google.com/assets/colab-badge.svg\" alt=\"Open In Colab\"/></a>"
      ]
    },
    {
      "cell_type": "code",
      "metadata": {
        "id": "KZ6EbLhvV3lc"
      },
      "source": [
        ""
      ],
      "execution_count": null,
      "outputs": []
    },
    {
      "cell_type": "markdown",
      "metadata": {
        "id": "H2ANmqWNV9uU"
      },
      "source": [
        "**Breyon Dmello - Data Science Intern at LetsGrowMore Virtual Internship Program (November-2021) Beginner Level Task 2 - Stock Market Prediction And Forecasting Using Stacked LSTM Algorithm Used - Stacked Long Short Term Memory**"
      ]
    },
    {
      "cell_type": "markdown",
      "metadata": {
        "id": "2t5xFFReWDqq"
      },
      "source": [
        "**Import the required libraries**"
      ]
    },
    {
      "cell_type": "code",
      "metadata": {
        "id": "gE5YfjkBWIOK"
      },
      "source": [
        "import pandas as pd #for analysis and manipulation of numerical tables"
      ],
      "execution_count": 1,
      "outputs": []
    },
    {
      "cell_type": "code",
      "metadata": {
        "colab": {
          "base_uri": "https://localhost:8080/",
          "height": 35
        },
        "id": "oJ557EfeWXph",
        "outputId": "2a56e062-3368-45ad-c08e-aaf3c7e0413c"
      },
      "source": [
        "pwd"
      ],
      "execution_count": 3,
      "outputs": [
        {
          "output_type": "execute_result",
          "data": {
            "application/vnd.google.colaboratory.intrinsic+json": {
              "type": "string"
            },
            "text/plain": [
              "'/content'"
            ]
          },
          "metadata": {},
          "execution_count": 3
        }
      ]
    },
    {
      "cell_type": "code",
      "metadata": {
        "id": "U403unoaWcJi"
      },
      "source": [
        "stock_data = pd.read_csv(r'/content/stock.csv')"
      ],
      "execution_count": 4,
      "outputs": []
    },
    {
      "cell_type": "code",
      "metadata": {
        "colab": {
          "base_uri": "https://localhost:8080/",
          "height": 204
        },
        "id": "Wig33Gw1WwlZ",
        "outputId": "8b62e7e8-5ffb-43a1-8ef4-ae34db86e348"
      },
      "source": [
        "stock_data.head()"
      ],
      "execution_count": 5,
      "outputs": [
        {
          "output_type": "execute_result",
          "data": {
            "text/html": [
              "<div>\n",
              "<style scoped>\n",
              "    .dataframe tbody tr th:only-of-type {\n",
              "        vertical-align: middle;\n",
              "    }\n",
              "\n",
              "    .dataframe tbody tr th {\n",
              "        vertical-align: top;\n",
              "    }\n",
              "\n",
              "    .dataframe thead th {\n",
              "        text-align: right;\n",
              "    }\n",
              "</style>\n",
              "<table border=\"1\" class=\"dataframe\">\n",
              "  <thead>\n",
              "    <tr style=\"text-align: right;\">\n",
              "      <th></th>\n",
              "      <th>Date</th>\n",
              "      <th>Open</th>\n",
              "      <th>High</th>\n",
              "      <th>Low</th>\n",
              "      <th>Last</th>\n",
              "      <th>Close</th>\n",
              "      <th>Total Trade Quantity</th>\n",
              "      <th>Turnover (Lacs)</th>\n",
              "    </tr>\n",
              "  </thead>\n",
              "  <tbody>\n",
              "    <tr>\n",
              "      <th>0</th>\n",
              "      <td>2018-09-28</td>\n",
              "      <td>234.05</td>\n",
              "      <td>235.95</td>\n",
              "      <td>230.20</td>\n",
              "      <td>233.50</td>\n",
              "      <td>233.75</td>\n",
              "      <td>3069914</td>\n",
              "      <td>7162.35</td>\n",
              "    </tr>\n",
              "    <tr>\n",
              "      <th>1</th>\n",
              "      <td>2018-09-27</td>\n",
              "      <td>234.55</td>\n",
              "      <td>236.80</td>\n",
              "      <td>231.10</td>\n",
              "      <td>233.80</td>\n",
              "      <td>233.25</td>\n",
              "      <td>5082859</td>\n",
              "      <td>11859.95</td>\n",
              "    </tr>\n",
              "    <tr>\n",
              "      <th>2</th>\n",
              "      <td>2018-09-26</td>\n",
              "      <td>240.00</td>\n",
              "      <td>240.00</td>\n",
              "      <td>232.50</td>\n",
              "      <td>235.00</td>\n",
              "      <td>234.25</td>\n",
              "      <td>2240909</td>\n",
              "      <td>5248.60</td>\n",
              "    </tr>\n",
              "    <tr>\n",
              "      <th>3</th>\n",
              "      <td>2018-09-25</td>\n",
              "      <td>233.30</td>\n",
              "      <td>236.75</td>\n",
              "      <td>232.00</td>\n",
              "      <td>236.25</td>\n",
              "      <td>236.10</td>\n",
              "      <td>2349368</td>\n",
              "      <td>5503.90</td>\n",
              "    </tr>\n",
              "    <tr>\n",
              "      <th>4</th>\n",
              "      <td>2018-09-24</td>\n",
              "      <td>233.55</td>\n",
              "      <td>239.20</td>\n",
              "      <td>230.75</td>\n",
              "      <td>234.00</td>\n",
              "      <td>233.30</td>\n",
              "      <td>3423509</td>\n",
              "      <td>7999.55</td>\n",
              "    </tr>\n",
              "  </tbody>\n",
              "</table>\n",
              "</div>"
            ],
            "text/plain": [
              "         Date    Open    High  ...   Close  Total Trade Quantity  Turnover (Lacs)\n",
              "0  2018-09-28  234.05  235.95  ...  233.75               3069914          7162.35\n",
              "1  2018-09-27  234.55  236.80  ...  233.25               5082859         11859.95\n",
              "2  2018-09-26  240.00  240.00  ...  234.25               2240909          5248.60\n",
              "3  2018-09-25  233.30  236.75  ...  236.10               2349368          5503.90\n",
              "4  2018-09-24  233.55  239.20  ...  233.30               3423509          7999.55\n",
              "\n",
              "[5 rows x 8 columns]"
            ]
          },
          "metadata": {},
          "execution_count": 5
        }
      ]
    },
    {
      "cell_type": "code",
      "metadata": {
        "colab": {
          "base_uri": "https://localhost:8080/"
        },
        "id": "nTOluvR7W0fQ",
        "outputId": "46cd5a6a-e80f-44d8-9cd8-2cab801b44c8"
      },
      "source": [
        "print(stock_data.isnull().sum())"
      ],
      "execution_count": 6,
      "outputs": [
        {
          "output_type": "stream",
          "name": "stdout",
          "text": [
            "Date                    0\n",
            "Open                    0\n",
            "High                    0\n",
            "Low                     0\n",
            "Last                    0\n",
            "Close                   0\n",
            "Total Trade Quantity    0\n",
            "Turnover (Lacs)         0\n",
            "dtype: int64\n"
          ]
        }
      ]
    },
    {
      "cell_type": "code",
      "metadata": {
        "colab": {
          "base_uri": "https://localhost:8080/",
          "height": 297
        },
        "id": "EJBtEq78W4g4",
        "outputId": "4183ace1-18b5-4a9d-8fe0-fe1ae612fa45"
      },
      "source": [
        "stock_data.describe()"
      ],
      "execution_count": 7,
      "outputs": [
        {
          "output_type": "execute_result",
          "data": {
            "text/html": [
              "<div>\n",
              "<style scoped>\n",
              "    .dataframe tbody tr th:only-of-type {\n",
              "        vertical-align: middle;\n",
              "    }\n",
              "\n",
              "    .dataframe tbody tr th {\n",
              "        vertical-align: top;\n",
              "    }\n",
              "\n",
              "    .dataframe thead th {\n",
              "        text-align: right;\n",
              "    }\n",
              "</style>\n",
              "<table border=\"1\" class=\"dataframe\">\n",
              "  <thead>\n",
              "    <tr style=\"text-align: right;\">\n",
              "      <th></th>\n",
              "      <th>Open</th>\n",
              "      <th>High</th>\n",
              "      <th>Low</th>\n",
              "      <th>Last</th>\n",
              "      <th>Close</th>\n",
              "      <th>Total Trade Quantity</th>\n",
              "      <th>Turnover (Lacs)</th>\n",
              "    </tr>\n",
              "  </thead>\n",
              "  <tbody>\n",
              "    <tr>\n",
              "      <th>count</th>\n",
              "      <td>2035.000000</td>\n",
              "      <td>2035.000000</td>\n",
              "      <td>2035.000000</td>\n",
              "      <td>2035.000000</td>\n",
              "      <td>2035.00000</td>\n",
              "      <td>2.035000e+03</td>\n",
              "      <td>2035.000000</td>\n",
              "    </tr>\n",
              "    <tr>\n",
              "      <th>mean</th>\n",
              "      <td>149.713735</td>\n",
              "      <td>151.992826</td>\n",
              "      <td>147.293931</td>\n",
              "      <td>149.474251</td>\n",
              "      <td>149.45027</td>\n",
              "      <td>2.335681e+06</td>\n",
              "      <td>3899.980565</td>\n",
              "    </tr>\n",
              "    <tr>\n",
              "      <th>std</th>\n",
              "      <td>48.664509</td>\n",
              "      <td>49.413109</td>\n",
              "      <td>47.931958</td>\n",
              "      <td>48.732570</td>\n",
              "      <td>48.71204</td>\n",
              "      <td>2.091778e+06</td>\n",
              "      <td>4570.767877</td>\n",
              "    </tr>\n",
              "    <tr>\n",
              "      <th>min</th>\n",
              "      <td>81.100000</td>\n",
              "      <td>82.800000</td>\n",
              "      <td>80.000000</td>\n",
              "      <td>81.000000</td>\n",
              "      <td>80.95000</td>\n",
              "      <td>3.961000e+04</td>\n",
              "      <td>37.040000</td>\n",
              "    </tr>\n",
              "    <tr>\n",
              "      <th>25%</th>\n",
              "      <td>120.025000</td>\n",
              "      <td>122.100000</td>\n",
              "      <td>118.300000</td>\n",
              "      <td>120.075000</td>\n",
              "      <td>120.05000</td>\n",
              "      <td>1.146444e+06</td>\n",
              "      <td>1427.460000</td>\n",
              "    </tr>\n",
              "    <tr>\n",
              "      <th>50%</th>\n",
              "      <td>141.500000</td>\n",
              "      <td>143.400000</td>\n",
              "      <td>139.600000</td>\n",
              "      <td>141.100000</td>\n",
              "      <td>141.25000</td>\n",
              "      <td>1.783456e+06</td>\n",
              "      <td>2512.030000</td>\n",
              "    </tr>\n",
              "    <tr>\n",
              "      <th>75%</th>\n",
              "      <td>157.175000</td>\n",
              "      <td>159.400000</td>\n",
              "      <td>155.150000</td>\n",
              "      <td>156.925000</td>\n",
              "      <td>156.90000</td>\n",
              "      <td>2.813594e+06</td>\n",
              "      <td>4539.015000</td>\n",
              "    </tr>\n",
              "    <tr>\n",
              "      <th>max</th>\n",
              "      <td>327.700000</td>\n",
              "      <td>328.750000</td>\n",
              "      <td>321.650000</td>\n",
              "      <td>325.950000</td>\n",
              "      <td>325.75000</td>\n",
              "      <td>2.919102e+07</td>\n",
              "      <td>55755.080000</td>\n",
              "    </tr>\n",
              "  </tbody>\n",
              "</table>\n",
              "</div>"
            ],
            "text/plain": [
              "              Open         High  ...  Total Trade Quantity  Turnover (Lacs)\n",
              "count  2035.000000  2035.000000  ...          2.035000e+03      2035.000000\n",
              "mean    149.713735   151.992826  ...          2.335681e+06      3899.980565\n",
              "std      48.664509    49.413109  ...          2.091778e+06      4570.767877\n",
              "min      81.100000    82.800000  ...          3.961000e+04        37.040000\n",
              "25%     120.025000   122.100000  ...          1.146444e+06      1427.460000\n",
              "50%     141.500000   143.400000  ...          1.783456e+06      2512.030000\n",
              "75%     157.175000   159.400000  ...          2.813594e+06      4539.015000\n",
              "max     327.700000   328.750000  ...          2.919102e+07     55755.080000\n",
              "\n",
              "[8 rows x 7 columns]"
            ]
          },
          "metadata": {},
          "execution_count": 7
        }
      ]
    },
    {
      "cell_type": "code",
      "metadata": {
        "id": "xibXDpOIW8F4"
      },
      "source": [
        "stock_data1 = stock_data.reset_index()['Close']"
      ],
      "execution_count": 8,
      "outputs": []
    },
    {
      "cell_type": "code",
      "metadata": {
        "colab": {
          "base_uri": "https://localhost:8080/"
        },
        "id": "BY_D4AREXADY",
        "outputId": "689831ae-2be6-4705-a2fc-5885af41f054"
      },
      "source": [
        "stock_data1.shape"
      ],
      "execution_count": 9,
      "outputs": [
        {
          "output_type": "execute_result",
          "data": {
            "text/plain": [
              "(2035,)"
            ]
          },
          "metadata": {},
          "execution_count": 9
        }
      ]
    },
    {
      "cell_type": "code",
      "metadata": {
        "colab": {
          "base_uri": "https://localhost:8080/"
        },
        "id": "owLCIN8GXIbJ",
        "outputId": "a615c223-5087-434b-d98b-4db020068ee4"
      },
      "source": [
        "stock_data1"
      ],
      "execution_count": 10,
      "outputs": [
        {
          "output_type": "execute_result",
          "data": {
            "text/plain": [
              "0       233.75\n",
              "1       233.25\n",
              "2       234.25\n",
              "3       236.10\n",
              "4       233.30\n",
              "         ...  \n",
              "2030    118.65\n",
              "2031    117.60\n",
              "2032    120.65\n",
              "2033    120.90\n",
              "2034    121.55\n",
              "Name: Close, Length: 2035, dtype: float64"
            ]
          },
          "metadata": {},
          "execution_count": 10
        }
      ]
    },
    {
      "cell_type": "markdown",
      "metadata": {
        "id": "2zmWZduxXMYp"
      },
      "source": [
        "Plot the dataframe"
      ]
    },
    {
      "cell_type": "code",
      "metadata": {
        "colab": {
          "base_uri": "https://localhost:8080/",
          "height": 282
        },
        "id": "0q1iLaHSXNq0",
        "outputId": "eee776e9-93a3-4bfb-eb66-e515267781d4"
      },
      "source": [
        "import matplotlib.pyplot as plt\n",
        "plt.plot(stock_data1)"
      ],
      "execution_count": 11,
      "outputs": [
        {
          "output_type": "execute_result",
          "data": {
            "text/plain": [
              "[<matplotlib.lines.Line2D at 0x7fe071349a50>]"
            ]
          },
          "metadata": {},
          "execution_count": 11
        },
        {
          "output_type": "display_data",
          "data": {
            "image/png": "[encoded data removed]",
            "text/plain": [
              "<Figure size 432x288 with 1 Axes>"
            ]
          },
          "metadata": {
            "needs_background": "light"
          }
        }
      ]
    },
    {
      "cell_type": "markdown",
      "metadata": {
        "id": "DOkeOqSCXVfJ"
      },
      "source": [
        "**Transform the data using MinMax Scaler**"
      ]
    },
    {
      "cell_type": "code",
      "metadata": {
        "id": "EsZGrFxZXXEh"
      },
      "source": [
        "#We have to do this as LSTM is sensitive to the scale of the data\n",
        "import numpy as np\n",
        "from sklearn.preprocessing import MinMaxScaler\n",
        "scaler = MinMaxScaler(feature_range=(0,1))\n",
        "stock_data1 = scaler.fit_transform(np.array(stock_data1).reshape(-1,1))"
      ],
      "execution_count": 12,
      "outputs": []
    },
    {
      "cell_type": "code",
      "metadata": {
        "colab": {
          "base_uri": "https://localhost:8080/"
        },
        "id": "-y2VYKZzXfop",
        "outputId": "eb27d06e-4ea5-434e-a4bf-e4c60a4f5727"
      },
      "source": [
        "stock_data1 #array has been transformed into values ranging from 0 to 1"
      ],
      "execution_count": 13,
      "outputs": [
        {
          "output_type": "execute_result",
          "data": {
            "text/plain": [
              "array([[0.62418301],\n",
              "       [0.62214052],\n",
              "       [0.62622549],\n",
              "       ...,\n",
              "       [0.1621732 ],\n",
              "       [0.16319444],\n",
              "       [0.16584967]])"
            ]
          },
          "metadata": {},
          "execution_count": 13
        }
      ]
    },
    {
      "cell_type": "markdown",
      "metadata": {
        "id": "7Ok6oKrJXjL4"
      },
      "source": [
        "**Split dataset into training and testing datasets**"
      ]
    },
    {
      "cell_type": "code",
      "metadata": {
        "id": "5ziibBN8Xlo8"
      },
      "source": [
        "train_size = int(len(stock_data1)*0.65)\n",
        "test_size = len(stock_data1) - train_size\n",
        "train_data, test_data = stock_data1[0:train_size,:],stock_data1[train_size:len(stock_data1),:1]"
      ],
      "execution_count": 14,
      "outputs": []
    },
    {
      "cell_type": "markdown",
      "metadata": {
        "id": "9JbAbx2yXtgS"
      },
      "source": [
        "\n",
        "**Preprocess the data**"
      ]
    },
    {
      "cell_type": "code",
      "metadata": {
        "id": "R7n1qAEXXvFZ"
      },
      "source": [
        "import numpy as np\n",
        "def create_dataset(dataset, time_step=1):\n",
        "  x, y = [],[]\n",
        "  for i in range(len(dataset)-time_step-1):\n",
        "    a=dataset[i:(i+time_step),0]\n",
        "    x.append(a)\n",
        "    y.append(dataset[i+time_step,0])\n",
        "  return np.array(x),np.array(y)"
      ],
      "execution_count": 15,
      "outputs": []
    },
    {
      "cell_type": "code",
      "metadata": {
        "id": "IxoyJwEtX5yw"
      },
      "source": [
        "time_step = 100\n",
        "x_train, y_train = create_dataset(train_data, time_step)\n",
        "x_test, y_test = create_dataset(test_data, time_step)"
      ],
      "execution_count": 16,
      "outputs": []
    },
    {
      "cell_type": "code",
      "metadata": {
        "id": "SXX73cV2X9xA"
      },
      "source": [
        "#reshaping input for LSTM\n",
        "x_train = x_train.reshape(x_train.shape[0], x_train.shape[1], 1)\n",
        "x_test = x_test.reshape(x_test.shape[0], x_test.shape[1], 1)"
      ],
      "execution_count": 17,
      "outputs": []
    },
    {
      "cell_type": "markdown",
      "metadata": {
        "id": "47x0W3WGYD3Y"
      },
      "source": [
        "**Create the stacked LSTM Model**"
      ]
    },
    {
      "cell_type": "code",
      "metadata": {
        "id": "1MNRwnUAYFjw"
      },
      "source": [
        "from tensorflow.keras.models import Sequential\n",
        "from tensorflow.keras.layers import Dense\n",
        "from tensorflow.keras.layers import LSTM"
      ],
      "execution_count": 18,
      "outputs": []
    },
    {
      "cell_type": "code",
      "metadata": {
        "id": "-V07enbaYLig"
      },
      "source": [
        "model = Sequential()\n",
        "#adding layers\n",
        "model.add(LSTM(50,return_sequences=True,input_shape=(100,1)))\n",
        "model.add(LSTM(50,return_sequences=True))\n",
        "model.add(LSTM(50))\n",
        "model.add(Dense(1))\n",
        "model.compile(loss='mean_squared_error',optimizer='adam')"
      ],
      "execution_count": 19,
      "outputs": []
    },
    {
      "cell_type": "code",
      "metadata": {
        "colab": {
          "base_uri": "https://localhost:8080/"
        },
        "id": "22NhqWObYRp5",
        "outputId": "f9b089ca-9cdf-4127-ca8b-90bea31603be"
      },
      "source": [
        "model.summary()"
      ],
      "execution_count": 20,
      "outputs": [
        {
          "output_type": "stream",
          "name": "stdout",
          "text": [
            "Model: \"sequential\"\n",
            "_________________________________________________________________\n",
            "Layer (type)                 Output Shape              Param #   \n",
            "=================================================================\n",
            "lstm (LSTM)                  (None, 100, 50)           10400     \n",
            "_________________________________________________________________\n",
            "lstm_1 (LSTM)                (None, 100, 50)           20200     \n",
            "_________________________________________________________________\n",
            "lstm_2 (LSTM)                (None, 50)                20200     \n",
            "_________________________________________________________________\n",
            "dense (Dense)                (None, 1)                 51        \n",
            "=================================================================\n",
            "Total params: 50,851\n",
            "Trainable params: 50,851\n",
            "Non-trainable params: 0\n",
            "_________________________________________________________________\n"
          ]
        }
      ]
    },
    {
      "cell_type": "markdown",
      "metadata": {
        "id": "hW-FYi9DYbTo"
      },
      "source": [
        "\n",
        "**Fit the model**"
      ]
    },
    {
      "cell_type": "code",
      "metadata": {
        "colab": {
          "base_uri": "https://localhost:8080/"
        },
        "id": "buH6vdQ7Yc-n",
        "outputId": "544a4282-1e5b-49ec-a92d-ec16e83d01c2"
      },
      "source": [
        "model.fit(x_train,y_train,validation_data=(x_test,y_test),epochs=100,batch_size=64,verbose=1)"
      ],
      "execution_count": 21,
      "outputs": [
        {
          "output_type": "stream",
          "name": "stdout",
          "text": [
            "Epoch 1/100\n",
            "20/20 [==============================] - 11s 278ms/step - loss: 0.0251 - val_loss: 0.0049\n",
            "Epoch 2/100\n",
            "20/20 [==============================] - 4s 206ms/step - loss: 0.0033 - val_loss: 0.0011\n",
            "Epoch 3/100\n",
            "20/20 [==============================] - 4s 201ms/step - loss: 0.0017 - val_loss: 0.0011\n",
            "Epoch 4/100\n",
            "20/20 [==============================] - 4s 199ms/step - loss: 0.0016 - val_loss: 0.0011\n",
            "Epoch 5/100\n",
            "20/20 [==============================] - 4s 198ms/step - loss: 0.0017 - val_loss: 0.0012\n",
            "Epoch 6/100\n",
            "20/20 [==============================] - 4s 196ms/step - loss: 0.0015 - val_loss: 0.0010\n",
            "Epoch 7/100\n",
            "20/20 [==============================] - 4s 198ms/step - loss: 0.0014 - val_loss: 8.9307e-04\n",
            "Epoch 8/100\n",
            "20/20 [==============================] - 4s 198ms/step - loss: 0.0016 - val_loss: 0.0018\n",
            "Epoch 9/100\n",
            "20/20 [==============================] - 4s 197ms/step - loss: 0.0015 - val_loss: 0.0013\n",
            "Epoch 10/100\n",
            "20/20 [==============================] - 4s 197ms/step - loss: 0.0016 - val_loss: 8.0057e-04\n",
            "Epoch 11/100\n",
            "20/20 [==============================] - 4s 197ms/step - loss: 0.0013 - val_loss: 8.6774e-04\n",
            "Epoch 12/100\n",
            "20/20 [==============================] - 4s 199ms/step - loss: 0.0012 - val_loss: 8.3642e-04\n",
            "Epoch 13/100\n",
            "20/20 [==============================] - 4s 199ms/step - loss: 0.0012 - val_loss: 8.1295e-04\n",
            "Epoch 14/100\n",
            "20/20 [==============================] - 4s 196ms/step - loss: 0.0011 - val_loss: 8.2995e-04\n",
            "Epoch 15/100\n",
            "20/20 [==============================] - 4s 203ms/step - loss: 9.7554e-04 - val_loss: 8.3435e-04\n",
            "Epoch 16/100\n",
            "20/20 [==============================] - 4s 199ms/step - loss: 9.1655e-04 - val_loss: 8.9321e-04\n",
            "Epoch 17/100\n",
            "20/20 [==============================] - 4s 198ms/step - loss: 8.7670e-04 - val_loss: 0.0011\n",
            "Epoch 18/100\n",
            "20/20 [==============================] - 4s 199ms/step - loss: 0.0011 - val_loss: 9.0682e-04\n",
            "Epoch 19/100\n",
            "20/20 [==============================] - 4s 195ms/step - loss: 8.1477e-04 - val_loss: 9.5630e-04\n",
            "Epoch 20/100\n",
            "20/20 [==============================] - 4s 199ms/step - loss: 9.3319e-04 - val_loss: 6.3120e-04\n",
            "Epoch 21/100\n",
            "20/20 [==============================] - 4s 197ms/step - loss: 8.4148e-04 - val_loss: 6.5593e-04\n",
            "Epoch 22/100\n",
            "20/20 [==============================] - 4s 199ms/step - loss: 8.8198e-04 - val_loss: 9.1242e-04\n",
            "Epoch 23/100\n",
            "20/20 [==============================] - 4s 197ms/step - loss: 7.8288e-04 - val_loss: 8.8526e-04\n",
            "Epoch 24/100\n",
            "20/20 [==============================] - 4s 202ms/step - loss: 7.8539e-04 - val_loss: 7.4683e-04\n",
            "Epoch 25/100\n",
            "20/20 [==============================] - 4s 201ms/step - loss: 7.9069e-04 - val_loss: 6.3461e-04\n",
            "Epoch 26/100\n",
            "20/20 [==============================] - 4s 199ms/step - loss: 8.9086e-04 - val_loss: 7.0715e-04\n",
            "Epoch 27/100\n",
            "20/20 [==============================] - 4s 200ms/step - loss: 7.3524e-04 - val_loss: 6.8095e-04\n",
            "Epoch 28/100\n",
            "20/20 [==============================] - 4s 202ms/step - loss: 7.4613e-04 - val_loss: 7.0260e-04\n",
            "Epoch 29/100\n",
            "20/20 [==============================] - 4s 201ms/step - loss: 6.6060e-04 - val_loss: 5.9951e-04\n",
            "Epoch 30/100\n",
            "20/20 [==============================] - 4s 200ms/step - loss: 7.3155e-04 - val_loss: 7.5563e-04\n",
            "Epoch 31/100\n",
            "20/20 [==============================] - 4s 202ms/step - loss: 6.4622e-04 - val_loss: 7.3533e-04\n",
            "Epoch 32/100\n",
            "20/20 [==============================] - 4s 203ms/step - loss: 6.0354e-04 - val_loss: 6.1750e-04\n",
            "Epoch 33/100\n",
            "20/20 [==============================] - 4s 202ms/step - loss: 5.9722e-04 - val_loss: 7.1729e-04\n",
            "Epoch 34/100\n",
            "20/20 [==============================] - 4s 198ms/step - loss: 6.5727e-04 - val_loss: 9.3433e-04\n",
            "Epoch 35/100\n",
            "20/20 [==============================] - 4s 203ms/step - loss: 6.7796e-04 - val_loss: 5.9520e-04\n",
            "Epoch 36/100\n",
            "20/20 [==============================] - 4s 199ms/step - loss: 6.1143e-04 - val_loss: 6.0609e-04\n",
            "Epoch 37/100\n",
            "20/20 [==============================] - 4s 201ms/step - loss: 6.7106e-04 - val_loss: 7.8131e-04\n",
            "Epoch 38/100\n",
            "20/20 [==============================] - 4s 199ms/step - loss: 5.6023e-04 - val_loss: 6.5345e-04\n",
            "Epoch 39/100\n",
            "20/20 [==============================] - 4s 199ms/step - loss: 5.8024e-04 - val_loss: 6.3928e-04\n",
            "Epoch 40/100\n",
            "20/20 [==============================] - 4s 201ms/step - loss: 5.8583e-04 - val_loss: 5.8538e-04\n",
            "Epoch 41/100\n",
            "20/20 [==============================] - 4s 206ms/step - loss: 5.8638e-04 - val_loss: 5.0946e-04\n",
            "Epoch 42/100\n",
            "20/20 [==============================] - 4s 201ms/step - loss: 5.6895e-04 - val_loss: 4.8239e-04\n",
            "Epoch 43/100\n",
            "20/20 [==============================] - 4s 200ms/step - loss: 5.3126e-04 - val_loss: 4.3506e-04\n",
            "Epoch 44/100\n",
            "20/20 [==============================] - 4s 202ms/step - loss: 5.0967e-04 - val_loss: 5.8387e-04\n",
            "Epoch 45/100\n",
            "20/20 [==============================] - 4s 201ms/step - loss: 5.0192e-04 - val_loss: 4.3422e-04\n",
            "Epoch 46/100\n",
            "20/20 [==============================] - 4s 205ms/step - loss: 5.2974e-04 - val_loss: 4.7657e-04\n",
            "Epoch 47/100\n",
            "20/20 [==============================] - 4s 201ms/step - loss: 5.4951e-04 - val_loss: 6.2446e-04\n",
            "Epoch 48/100\n",
            "20/20 [==============================] - 4s 200ms/step - loss: 6.5119e-04 - val_loss: 4.0444e-04\n",
            "Epoch 49/100\n",
            "20/20 [==============================] - 4s 205ms/step - loss: 7.6509e-04 - val_loss: 0.0011\n",
            "Epoch 50/100\n",
            "20/20 [==============================] - 4s 203ms/step - loss: 0.0011 - val_loss: 8.5606e-04\n",
            "Epoch 51/100\n",
            "20/20 [==============================] - 4s 201ms/step - loss: 5.4206e-04 - val_loss: 4.6014e-04\n",
            "Epoch 52/100\n",
            "20/20 [==============================] - 4s 201ms/step - loss: 5.1441e-04 - val_loss: 4.9728e-04\n",
            "Epoch 53/100\n",
            "20/20 [==============================] - 4s 199ms/step - loss: 4.7064e-04 - val_loss: 5.5337e-04\n",
            "Epoch 54/100\n",
            "20/20 [==============================] - 4s 210ms/step - loss: 5.6265e-04 - val_loss: 3.8482e-04\n",
            "Epoch 55/100\n",
            "20/20 [==============================] - 4s 198ms/step - loss: 4.7080e-04 - val_loss: 5.3815e-04\n",
            "Epoch 56/100\n",
            "20/20 [==============================] - 4s 199ms/step - loss: 5.0937e-04 - val_loss: 5.6479e-04\n",
            "Epoch 57/100\n",
            "20/20 [==============================] - 4s 203ms/step - loss: 4.4668e-04 - val_loss: 6.6203e-04\n",
            "Epoch 58/100\n",
            "20/20 [==============================] - 4s 195ms/step - loss: 4.2947e-04 - val_loss: 4.8633e-04\n",
            "Epoch 59/100\n",
            "20/20 [==============================] - 4s 200ms/step - loss: 4.2016e-04 - val_loss: 3.5478e-04\n",
            "Epoch 60/100\n",
            "20/20 [==============================] - 4s 198ms/step - loss: 4.8675e-04 - val_loss: 4.5806e-04\n",
            "Epoch 61/100\n",
            "20/20 [==============================] - 4s 203ms/step - loss: 4.8765e-04 - val_loss: 3.8439e-04\n",
            "Epoch 62/100\n",
            "20/20 [==============================] - 4s 199ms/step - loss: 4.4845e-04 - val_loss: 3.8687e-04\n",
            "Epoch 63/100\n",
            "20/20 [==============================] - 4s 196ms/step - loss: 4.3949e-04 - val_loss: 5.6233e-04\n",
            "Epoch 64/100\n",
            "20/20 [==============================] - 4s 197ms/step - loss: 6.9235e-04 - val_loss: 6.6234e-04\n",
            "Epoch 65/100\n",
            "20/20 [==============================] - 4s 203ms/step - loss: 4.0958e-04 - val_loss: 3.9019e-04\n",
            "Epoch 66/100\n",
            "20/20 [==============================] - 4s 197ms/step - loss: 3.7583e-04 - val_loss: 4.4736e-04\n",
            "Epoch 67/100\n",
            "20/20 [==============================] - 4s 198ms/step - loss: 3.5658e-04 - val_loss: 4.9117e-04\n",
            "Epoch 68/100\n",
            "20/20 [==============================] - 4s 200ms/step - loss: 3.9013e-04 - val_loss: 3.0144e-04\n",
            "Epoch 69/100\n",
            "20/20 [==============================] - 4s 201ms/step - loss: 3.4723e-04 - val_loss: 3.2929e-04\n",
            "Epoch 70/100\n",
            "20/20 [==============================] - 4s 201ms/step - loss: 3.5038e-04 - val_loss: 3.6205e-04\n",
            "Epoch 71/100\n",
            "20/20 [==============================] - 4s 197ms/step - loss: 3.2151e-04 - val_loss: 2.7832e-04\n",
            "Epoch 72/100\n",
            "20/20 [==============================] - 4s 197ms/step - loss: 3.8035e-04 - val_loss: 3.6019e-04\n",
            "Epoch 73/100\n",
            "20/20 [==============================] - 4s 198ms/step - loss: 3.2659e-04 - val_loss: 2.8093e-04\n",
            "Epoch 74/100\n",
            "20/20 [==============================] - 4s 197ms/step - loss: 3.2583e-04 - val_loss: 4.6238e-04\n",
            "Epoch 75/100\n",
            "20/20 [==============================] - 4s 197ms/step - loss: 3.2677e-04 - val_loss: 2.7644e-04\n",
            "Epoch 76/100\n",
            "20/20 [==============================] - 4s 200ms/step - loss: 3.1147e-04 - val_loss: 5.4481e-04\n",
            "Epoch 77/100\n",
            "20/20 [==============================] - 4s 202ms/step - loss: 5.0893e-04 - val_loss: 2.7993e-04\n",
            "Epoch 78/100\n",
            "20/20 [==============================] - 4s 199ms/step - loss: 3.8700e-04 - val_loss: 3.7241e-04\n",
            "Epoch 79/100\n",
            "20/20 [==============================] - 4s 200ms/step - loss: 2.9937e-04 - val_loss: 3.4700e-04\n",
            "Epoch 80/100\n",
            "20/20 [==============================] - 4s 196ms/step - loss: 2.9118e-04 - val_loss: 2.7518e-04\n",
            "Epoch 81/100\n",
            "20/20 [==============================] - 4s 198ms/step - loss: 2.8403e-04 - val_loss: 2.5663e-04\n",
            "Epoch 82/100\n",
            "20/20 [==============================] - 4s 201ms/step - loss: 2.7352e-04 - val_loss: 2.6697e-04\n",
            "Epoch 83/100\n",
            "20/20 [==============================] - 4s 198ms/step - loss: 2.7756e-04 - val_loss: 2.6125e-04\n",
            "Epoch 84/100\n",
            "20/20 [==============================] - 4s 198ms/step - loss: 2.7854e-04 - val_loss: 2.5227e-04\n",
            "Epoch 85/100\n",
            "20/20 [==============================] - 4s 198ms/step - loss: 2.7961e-04 - val_loss: 2.7136e-04\n",
            "Epoch 86/100\n",
            "20/20 [==============================] - 4s 202ms/step - loss: 2.6271e-04 - val_loss: 2.2353e-04\n",
            "Epoch 87/100\n",
            "20/20 [==============================] - 4s 197ms/step - loss: 2.7179e-04 - val_loss: 2.4909e-04\n",
            "Epoch 88/100\n",
            "20/20 [==============================] - 4s 197ms/step - loss: 2.5553e-04 - val_loss: 2.8016e-04\n",
            "Epoch 89/100\n",
            "20/20 [==============================] - 4s 199ms/step - loss: 4.7313e-04 - val_loss: 2.8081e-04\n",
            "Epoch 90/100\n",
            "20/20 [==============================] - 4s 199ms/step - loss: 5.1132e-04 - val_loss: 3.5670e-04\n",
            "Epoch 91/100\n",
            "20/20 [==============================] - 4s 201ms/step - loss: 2.9674e-04 - val_loss: 2.4663e-04\n",
            "Epoch 92/100\n",
            "20/20 [==============================] - 4s 198ms/step - loss: 2.5707e-04 - val_loss: 2.3566e-04\n",
            "Epoch 93/100\n",
            "20/20 [==============================] - 4s 195ms/step - loss: 2.4055e-04 - val_loss: 3.3268e-04\n",
            "Epoch 94/100\n",
            "20/20 [==============================] - 4s 199ms/step - loss: 2.6033e-04 - val_loss: 2.2995e-04\n",
            "Epoch 95/100\n",
            "20/20 [==============================] - 4s 199ms/step - loss: 2.6402e-04 - val_loss: 2.8289e-04\n",
            "Epoch 96/100\n",
            "20/20 [==============================] - 4s 197ms/step - loss: 2.8412e-04 - val_loss: 2.7928e-04\n",
            "Epoch 97/100\n",
            "20/20 [==============================] - 4s 202ms/step - loss: 2.4493e-04 - val_loss: 2.5302e-04\n",
            "Epoch 98/100\n",
            "20/20 [==============================] - 4s 198ms/step - loss: 2.3405e-04 - val_loss: 2.1571e-04\n",
            "Epoch 99/100\n",
            "20/20 [==============================] - 4s 201ms/step - loss: 2.3548e-04 - val_loss: 3.5411e-04\n",
            "Epoch 100/100\n",
            "20/20 [==============================] - 4s 199ms/step - loss: 2.4666e-04 - val_loss: 2.2913e-04\n"
          ]
        },
        {
          "output_type": "execute_result",
          "data": {
            "text/plain": [
              "<keras.callbacks.History at 0x7fe0169867d0>"
            ]
          },
          "metadata": {},
          "execution_count": 21
        }
      ]
    },
    {
      "cell_type": "markdown",
      "metadata": {
        "id": "yq9wsbKqavBw"
      },
      "source": [
        "**Generate Predictions**"
      ]
    },
    {
      "cell_type": "code",
      "metadata": {
        "id": "LLqGJHzlaxUm"
      },
      "source": [
        "import tensorflow as tf #importing the tensorflow library to predict\n",
        "train_prediction = model.predict(x_train)\n",
        "test_prediction = model.predict(x_test)"
      ],
      "execution_count": 22,
      "outputs": []
    },
    {
      "cell_type": "markdown",
      "metadata": {
        "id": "L5ERatQ0bDQ_"
      },
      "source": [
        "Transform back to original form using reverse scaling"
      ]
    },
    {
      "cell_type": "code",
      "metadata": {
        "id": "IBOLM1OzbEHW"
      },
      "source": [
        "train_prediction = scaler.inverse_transform(train_prediction)\n",
        "test_prediction = scaler.inverse_transform(test_prediction)"
      ],
      "execution_count": 23,
      "outputs": []
    },
    {
      "cell_type": "markdown",
      "metadata": {
        "id": "Siy2bt55bN7d"
      },
      "source": [
        "Calculate RMSE (Root Mean Square Error)"
      ]
    },
    {
      "cell_type": "code",
      "metadata": {
        "colab": {
          "base_uri": "https://localhost:8080/"
        },
        "id": "fcqbQPspbPJF",
        "outputId": "b5430ff5-96df-46a7-f1e4-f8075f7db931"
      },
      "source": [
        "import math\n",
        "from sklearn.metrics import mean_squared_error\n",
        "math.sqrt(mean_squared_error(y_train,train_prediction)) #for training data"
      ],
      "execution_count": 24,
      "outputs": [
        {
          "output_type": "execute_result",
          "data": {
            "text/plain": [
              "164.49548311033715"
            ]
          },
          "metadata": {},
          "execution_count": 24
        }
      ]
    },
    {
      "cell_type": "code",
      "metadata": {
        "colab": {
          "base_uri": "https://localhost:8080/"
        },
        "id": "pewwEax3bdUe",
        "outputId": "ad3d2942-f7f0-4615-c959-e01071fff5a7"
      },
      "source": [
        "math.sqrt(mean_squared_error(y_test,test_prediction)) #for testing data"
      ],
      "execution_count": 25,
      "outputs": [
        {
          "output_type": "execute_result",
          "data": {
            "text/plain": [
              "115.878036514846"
            ]
          },
          "metadata": {},
          "execution_count": 25
        }
      ]
    },
    {
      "cell_type": "markdown",
      "metadata": {
        "id": "1aJwtiwGbkK2"
      },
      "source": [
        "Shift predictions for plotting"
      ]
    },
    {
      "cell_type": "code",
      "metadata": {
        "id": "Zvt3sYSkbkuj"
      },
      "source": [
        "look_back=100\n",
        "trainPredictionPlot = np.empty_like(stock_data1) #shifting training predictions\n",
        "trainPredictionPlot[:, :] = np.nan\n",
        "trainPredictionPlot[look_back:len(train_prediction)+look_back, :] = train_prediction\n",
        "testPredictionPlot = np.empty_like(stock_data1) #shifting test predictions\n",
        "testPredictionPlot[:, :] = np.nan\n",
        "testPredictionPlot[len(train_prediction)+(look_back*2)+1:len(stock_data1)-1, :] = test_prediction"
      ],
      "execution_count": 26,
      "outputs": []
    },
    {
      "cell_type": "code",
      "metadata": {
        "colab": {
          "base_uri": "https://localhost:8080/",
          "height": 265
        },
        "id": "8f1AAQlKbr3d",
        "outputId": "cb0aa741-460f-4964-c4c1-d0e2f8531056"
      },
      "source": [
        "plt.plot(scaler.inverse_transform(stock_data1))\n",
        "plt.plot(trainPredictionPlot)\n",
        "plt.plot(testPredictionPlot)\n",
        "plt.show()"
      ],
      "execution_count": 27,
      "outputs": [
        {
          "output_type": "display_data",
          "data": {
            "image/png": "[encoded data removed]",
            "text/plain": [
              "<Figure size 432x288 with 1 Axes>"
            ]
          },
          "metadata": {
            "needs_background": "light"
          }
        }
      ]
    },
    {
      "cell_type": "code",
      "metadata": {
        "colab": {
          "base_uri": "https://localhost:8080/"
        },
        "id": "NovOtaeGb0KH",
        "outputId": "7d480222-88a9-4f62-e89b-4b080b40efdd"
      },
      "source": [
        "len(test_data)"
      ],
      "execution_count": 28,
      "outputs": [
        {
          "output_type": "execute_result",
          "data": {
            "text/plain": [
              "713"
            ]
          },
          "metadata": {},
          "execution_count": 28
        }
      ]
    },
    {
      "cell_type": "code",
      "metadata": {
        "colab": {
          "base_uri": "https://localhost:8080/"
        },
        "id": "_Eebzr8Ib3xH",
        "outputId": "bb71aec2-cc62-491f-9d80-f870fe959545"
      },
      "source": [
        "x_input=test_data[613:].reshape(1,-1)\n",
        "x_input.shape"
      ],
      "execution_count": 29,
      "outputs": [
        {
          "output_type": "execute_result",
          "data": {
            "text/plain": [
              "(1, 100)"
            ]
          },
          "metadata": {},
          "execution_count": 29
        }
      ]
    },
    {
      "cell_type": "code",
      "metadata": {
        "id": "VjqLyXPGb8bO"
      },
      "source": [
        "temp_input=list(x_input)\n",
        "temp_input=temp_input[0].tolist()"
      ],
      "execution_count": 30,
      "outputs": []
    },
    {
      "cell_type": "markdown",
      "metadata": {
        "id": "Fc07fC5icC_c"
      },
      "source": [
        "\n",
        "**Prediction for next 30 days**"
      ]
    },
    {
      "cell_type": "code",
      "metadata": {
        "colab": {
          "base_uri": "https://localhost:8080/"
        },
        "id": "SPn3rd4xcJ6p",
        "outputId": "218442a3-66a3-45f3-9154-409916d20e64"
      },
      "source": [
        "from numpy import array\n",
        "\n",
        "final_output=[]\n",
        "n_steps=100\n",
        "i=1\n",
        "while(i<=30):\n",
        "    \n",
        "    if(len(temp_input)>100):\n",
        "        x_input=np.array(temp_input[1:])\n",
        "        print(\"{} day input {}\".format(i,x_input))\n",
        "        x_input=x_input.reshape(1,-1)\n",
        "        x_input = x_input.reshape((1, n_steps, 1))\n",
        "        ypred = model.predict(x_input, verbose=0)\n",
        "        print(\"{} day output {}\".format(i,ypred))\n",
        "        temp_input.extend(ypred[0].tolist())\n",
        "        temp_input=temp_input[1:]\n",
        "        final_output.extend(ypred.tolist())\n",
        "        i=i+1\n",
        "    else:\n",
        "        x_input = x_input.reshape((1, n_steps,1))\n",
        "        ypred = model.predict(x_input, verbose=0)\n",
        "        print(ypred[0])\n",
        "        temp_input.extend(ypred[0].tolist())\n",
        "        print(len(temp_input))\n",
        "        final_output.extend(ypred.tolist())\n",
        "        i=i+1\n",
        "    \n",
        "\n",
        "print(final_output)"
      ],
      "execution_count": 31,
      "outputs": [
        {
          "output_type": "stream",
          "name": "stdout",
          "text": [
            "[0.16423915]\n",
            "101\n",
            "2 day input [0.13848039 0.14011438 0.13888889 0.13541667 0.14011438 0.1380719\n",
            " 0.13071895 0.13071895 0.12867647 0.11846405 0.14644608 0.14808007\n",
            " 0.15910948 0.15992647 0.15788399 0.16441993 0.17892157 0.17933007\n",
            " 0.19260621 0.20812908 0.18974673 0.18055556 0.18239379 0.17708333\n",
            " 0.17810458 0.18055556 0.17810458 0.17851307 0.19607843 0.18913399\n",
            " 0.18954248 0.19403595 0.19444444 0.20200163 0.19771242 0.19934641\n",
            " 0.19873366 0.1997549  0.2128268  0.21568627 0.20445261 0.21772876\n",
            " 0.21098856 0.21425654 0.19750817 0.18811275 0.17851307 0.17381536\n",
            " 0.16033497 0.16564542 0.17116013 0.17422386 0.18035131 0.17401961\n",
            " 0.16278595 0.16973039 0.17810458 0.17034314 0.16830065 0.17279412\n",
            " 0.17544935 0.18382353 0.19138072 0.18913399 0.19097222 0.17238562\n",
            " 0.16830065 0.1693219  0.17177288 0.16156046 0.14971405 0.1503268\n",
            " 0.15196078 0.14726307 0.14501634 0.14603758 0.12479575 0.13112745\n",
            " 0.11397059 0.1190768  0.12377451 0.13562092 0.12908497 0.13459967\n",
            " 0.12806373 0.13031046 0.12724673 0.13521242 0.14522059 0.15257353\n",
            " 0.14848856 0.14338235 0.14562908 0.15236928 0.15400327 0.14971405\n",
            " 0.1621732  0.16319444 0.16584967 0.16423915]\n",
            "2 day output [[0.16611627]]\n",
            "3 day input [0.14011438 0.13888889 0.13541667 0.14011438 0.1380719  0.13071895\n",
            " 0.13071895 0.12867647 0.11846405 0.14644608 0.14808007 0.15910948\n",
            " 0.15992647 0.15788399 0.16441993 0.17892157 0.17933007 0.19260621\n",
            " 0.20812908 0.18974673 0.18055556 0.18239379 0.17708333 0.17810458\n",
            " 0.18055556 0.17810458 0.17851307 0.19607843 0.18913399 0.18954248\n",
            " 0.19403595 0.19444444 0.20200163 0.19771242 0.19934641 0.19873366\n",
            " 0.1997549  0.2128268  0.21568627 0.20445261 0.21772876 0.21098856\n",
            " 0.21425654 0.19750817 0.18811275 0.17851307 0.17381536 0.16033497\n",
            " 0.16564542 0.17116013 0.17422386 0.18035131 0.17401961 0.16278595\n",
            " 0.16973039 0.17810458 0.17034314 0.16830065 0.17279412 0.17544935\n",
            " 0.18382353 0.19138072 0.18913399 0.19097222 0.17238562 0.16830065\n",
            " 0.1693219  0.17177288 0.16156046 0.14971405 0.1503268  0.15196078\n",
            " 0.14726307 0.14501634 0.14603758 0.12479575 0.13112745 0.11397059\n",
            " 0.1190768  0.12377451 0.13562092 0.12908497 0.13459967 0.12806373\n",
            " 0.13031046 0.12724673 0.13521242 0.14522059 0.15257353 0.14848856\n",
            " 0.14338235 0.14562908 0.15236928 0.15400327 0.14971405 0.1621732\n",
            " 0.16319444 0.16584967 0.16423915 0.16611627]\n",
            "3 day output [[0.16701645]]\n",
            "4 day input [0.13888889 0.13541667 0.14011438 0.1380719  0.13071895 0.13071895\n",
            " 0.12867647 0.11846405 0.14644608 0.14808007 0.15910948 0.15992647\n",
            " 0.15788399 0.16441993 0.17892157 0.17933007 0.19260621 0.20812908\n",
            " 0.18974673 0.18055556 0.18239379 0.17708333 0.17810458 0.18055556\n",
            " 0.17810458 0.17851307 0.19607843 0.18913399 0.18954248 0.19403595\n",
            " 0.19444444 0.20200163 0.19771242 0.19934641 0.19873366 0.1997549\n",
            " 0.2128268  0.21568627 0.20445261 0.21772876 0.21098856 0.21425654\n",
            " 0.19750817 0.18811275 0.17851307 0.17381536 0.16033497 0.16564542\n",
            " 0.17116013 0.17422386 0.18035131 0.17401961 0.16278595 0.16973039\n",
            " 0.17810458 0.17034314 0.16830065 0.17279412 0.17544935 0.18382353\n",
            " 0.19138072 0.18913399 0.19097222 0.17238562 0.16830065 0.1693219\n",
            " 0.17177288 0.16156046 0.14971405 0.1503268  0.15196078 0.14726307\n",
            " 0.14501634 0.14603758 0.12479575 0.13112745 0.11397059 0.1190768\n",
            " 0.12377451 0.13562092 0.12908497 0.13459967 0.12806373 0.13031046\n",
            " 0.12724673 0.13521242 0.14522059 0.15257353 0.14848856 0.14338235\n",
            " 0.14562908 0.15236928 0.15400327 0.14971405 0.1621732  0.16319444\n",
            " 0.16584967 0.16423915 0.16611627 0.16701645]\n",
            "4 day output [[0.16750051]]\n",
            "5 day input [0.13541667 0.14011438 0.1380719  0.13071895 0.13071895 0.12867647\n",
            " 0.11846405 0.14644608 0.14808007 0.15910948 0.15992647 0.15788399\n",
            " 0.16441993 0.17892157 0.17933007 0.19260621 0.20812908 0.18974673\n",
            " 0.18055556 0.18239379 0.17708333 0.17810458 0.18055556 0.17810458\n",
            " 0.17851307 0.19607843 0.18913399 0.18954248 0.19403595 0.19444444\n",
            " 0.20200163 0.19771242 0.19934641 0.19873366 0.1997549  0.2128268\n",
            " 0.21568627 0.20445261 0.21772876 0.21098856 0.21425654 0.19750817\n",
            " 0.18811275 0.17851307 0.17381536 0.16033497 0.16564542 0.17116013\n",
            " 0.17422386 0.18035131 0.17401961 0.16278595 0.16973039 0.17810458\n",
            " 0.17034314 0.16830065 0.17279412 0.17544935 0.18382353 0.19138072\n",
            " 0.18913399 0.19097222 0.17238562 0.16830065 0.1693219  0.17177288\n",
            " 0.16156046 0.14971405 0.1503268  0.15196078 0.14726307 0.14501634\n",
            " 0.14603758 0.12479575 0.13112745 0.11397059 0.1190768  0.12377451\n",
            " 0.13562092 0.12908497 0.13459967 0.12806373 0.13031046 0.12724673\n",
            " 0.13521242 0.14522059 0.15257353 0.14848856 0.14338235 0.14562908\n",
            " 0.15236928 0.15400327 0.14971405 0.1621732  0.16319444 0.16584967\n",
            " 0.16423915 0.16611627 0.16701645 0.16750051]\n",
            "5 day output [[0.16779773]]\n",
            "6 day input [0.14011438 0.1380719  0.13071895 0.13071895 0.12867647 0.11846405\n",
            " 0.14644608 0.14808007 0.15910948 0.15992647 0.15788399 0.16441993\n",
            " 0.17892157 0.17933007 0.19260621 0.20812908 0.18974673 0.18055556\n",
            " 0.18239379 0.17708333 0.17810458 0.18055556 0.17810458 0.17851307\n",
            " 0.19607843 0.18913399 0.18954248 0.19403595 0.19444444 0.20200163\n",
            " 0.19771242 0.19934641 0.19873366 0.1997549  0.2128268  0.21568627\n",
            " 0.20445261 0.21772876 0.21098856 0.21425654 0.19750817 0.18811275\n",
            " 0.17851307 0.17381536 0.16033497 0.16564542 0.17116013 0.17422386\n",
            " 0.18035131 0.17401961 0.16278595 0.16973039 0.17810458 0.17034314\n",
            " 0.16830065 0.17279412 0.17544935 0.18382353 0.19138072 0.18913399\n",
            " 0.19097222 0.17238562 0.16830065 0.1693219  0.17177288 0.16156046\n",
            " 0.14971405 0.1503268  0.15196078 0.14726307 0.14501634 0.14603758\n",
            " 0.12479575 0.13112745 0.11397059 0.1190768  0.12377451 0.13562092\n",
            " 0.12908497 0.13459967 0.12806373 0.13031046 0.12724673 0.13521242\n",
            " 0.14522059 0.15257353 0.14848856 0.14338235 0.14562908 0.15236928\n",
            " 0.15400327 0.14971405 0.1621732  0.16319444 0.16584967 0.16423915\n",
            " 0.16611627 0.16701645 0.16750051 0.16779773]\n",
            "6 day output [[0.16799691]]\n",
            "7 day input [0.1380719  0.13071895 0.13071895 0.12867647 0.11846405 0.14644608\n",
            " 0.14808007 0.15910948 0.15992647 0.15788399 0.16441993 0.17892157\n",
            " 0.17933007 0.19260621 0.20812908 0.18974673 0.18055556 0.18239379\n",
            " 0.17708333 0.17810458 0.18055556 0.17810458 0.17851307 0.19607843\n",
            " 0.18913399 0.18954248 0.19403595 0.19444444 0.20200163 0.19771242\n",
            " 0.19934641 0.19873366 0.1997549  0.2128268  0.21568627 0.20445261\n",
            " 0.21772876 0.21098856 0.21425654 0.19750817 0.18811275 0.17851307\n",
            " 0.17381536 0.16033497 0.16564542 0.17116013 0.17422386 0.18035131\n",
            " 0.17401961 0.16278595 0.16973039 0.17810458 0.17034314 0.16830065\n",
            " 0.17279412 0.17544935 0.18382353 0.19138072 0.18913399 0.19097222\n",
            " 0.17238562 0.16830065 0.1693219  0.17177288 0.16156046 0.14971405\n",
            " 0.1503268  0.15196078 0.14726307 0.14501634 0.14603758 0.12479575\n",
            " 0.13112745 0.11397059 0.1190768  0.12377451 0.13562092 0.12908497\n",
            " 0.13459967 0.12806373 0.13031046 0.12724673 0.13521242 0.14522059\n",
            " 0.15257353 0.14848856 0.14338235 0.14562908 0.15236928 0.15400327\n",
            " 0.14971405 0.1621732  0.16319444 0.16584967 0.16423915 0.16611627\n",
            " 0.16701645 0.16750051 0.16779773 0.16799691]\n",
            "7 day output [[0.1681447]]\n",
            "8 day input [0.13071895 0.13071895 0.12867647 0.11846405 0.14644608 0.14808007\n",
            " 0.15910948 0.15992647 0.15788399 0.16441993 0.17892157 0.17933007\n",
            " 0.19260621 0.20812908 0.18974673 0.18055556 0.18239379 0.17708333\n",
            " 0.17810458 0.18055556 0.17810458 0.17851307 0.19607843 0.18913399\n",
            " 0.18954248 0.19403595 0.19444444 0.20200163 0.19771242 0.19934641\n",
            " 0.19873366 0.1997549  0.2128268  0.21568627 0.20445261 0.21772876\n",
            " 0.21098856 0.21425654 0.19750817 0.18811275 0.17851307 0.17381536\n",
            " 0.16033497 0.16564542 0.17116013 0.17422386 0.18035131 0.17401961\n",
            " 0.16278595 0.16973039 0.17810458 0.17034314 0.16830065 0.17279412\n",
            " 0.17544935 0.18382353 0.19138072 0.18913399 0.19097222 0.17238562\n",
            " 0.16830065 0.1693219  0.17177288 0.16156046 0.14971405 0.1503268\n",
            " 0.15196078 0.14726307 0.14501634 0.14603758 0.12479575 0.13112745\n",
            " 0.11397059 0.1190768  0.12377451 0.13562092 0.12908497 0.13459967\n",
            " 0.12806373 0.13031046 0.12724673 0.13521242 0.14522059 0.15257353\n",
            " 0.14848856 0.14338235 0.14562908 0.15236928 0.15400327 0.14971405\n",
            " 0.1621732  0.16319444 0.16584967 0.16423915 0.16611627 0.16701645\n",
            " 0.16750051 0.16779773 0.16799691 0.1681447 ]\n",
            "8 day output [[0.16827361]]\n",
            "9 day input [0.13071895 0.12867647 0.11846405 0.14644608 0.14808007 0.15910948\n",
            " 0.15992647 0.15788399 0.16441993 0.17892157 0.17933007 0.19260621\n",
            " 0.20812908 0.18974673 0.18055556 0.18239379 0.17708333 0.17810458\n",
            " 0.18055556 0.17810458 0.17851307 0.19607843 0.18913399 0.18954248\n",
            " 0.19403595 0.19444444 0.20200163 0.19771242 0.19934641 0.19873366\n",
            " 0.1997549  0.2128268  0.21568627 0.20445261 0.21772876 0.21098856\n",
            " 0.21425654 0.19750817 0.18811275 0.17851307 0.17381536 0.16033497\n",
            " 0.16564542 0.17116013 0.17422386 0.18035131 0.17401961 0.16278595\n",
            " 0.16973039 0.17810458 0.17034314 0.16830065 0.17279412 0.17544935\n",
            " 0.18382353 0.19138072 0.18913399 0.19097222 0.17238562 0.16830065\n",
            " 0.1693219  0.17177288 0.16156046 0.14971405 0.1503268  0.15196078\n",
            " 0.14726307 0.14501634 0.14603758 0.12479575 0.13112745 0.11397059\n",
            " 0.1190768  0.12377451 0.13562092 0.12908497 0.13459967 0.12806373\n",
            " 0.13031046 0.12724673 0.13521242 0.14522059 0.15257353 0.14848856\n",
            " 0.14338235 0.14562908 0.15236928 0.15400327 0.14971405 0.1621732\n",
            " 0.16319444 0.16584967 0.16423915 0.16611627 0.16701645 0.16750051\n",
            " 0.16779773 0.16799691 0.1681447  0.16827361]\n",
            "9 day output [[0.16840686]]\n",
            "10 day input [0.12867647 0.11846405 0.14644608 0.14808007 0.15910948 0.15992647\n",
            " 0.15788399 0.16441993 0.17892157 0.17933007 0.19260621 0.20812908\n",
            " 0.18974673 0.18055556 0.18239379 0.17708333 0.17810458 0.18055556\n",
            " 0.17810458 0.17851307 0.19607843 0.18913399 0.18954248 0.19403595\n",
            " 0.19444444 0.20200163 0.19771242 0.19934641 0.19873366 0.1997549\n",
            " 0.2128268  0.21568627 0.20445261 0.21772876 0.21098856 0.21425654\n",
            " 0.19750817 0.18811275 0.17851307 0.17381536 0.16033497 0.16564542\n",
            " 0.17116013 0.17422386 0.18035131 0.17401961 0.16278595 0.16973039\n",
            " 0.17810458 0.17034314 0.16830065 0.17279412 0.17544935 0.18382353\n",
            " 0.19138072 0.18913399 0.19097222 0.17238562 0.16830065 0.1693219\n",
            " 0.17177288 0.16156046 0.14971405 0.1503268  0.15196078 0.14726307\n",
            " 0.14501634 0.14603758 0.12479575 0.13112745 0.11397059 0.1190768\n",
            " 0.12377451 0.13562092 0.12908497 0.13459967 0.12806373 0.13031046\n",
            " 0.12724673 0.13521242 0.14522059 0.15257353 0.14848856 0.14338235\n",
            " 0.14562908 0.15236928 0.15400327 0.14971405 0.1621732  0.16319444\n",
            " 0.16584967 0.16423915 0.16611627 0.16701645 0.16750051 0.16779773\n",
            " 0.16799691 0.1681447  0.16827361 0.16840686]\n",
            "10 day output [[0.16855915]]\n",
            "11 day input [0.11846405 0.14644608 0.14808007 0.15910948 0.15992647 0.15788399\n",
            " 0.16441993 0.17892157 0.17933007 0.19260621 0.20812908 0.18974673\n",
            " 0.18055556 0.18239379 0.17708333 0.17810458 0.18055556 0.17810458\n",
            " 0.17851307 0.19607843 0.18913399 0.18954248 0.19403595 0.19444444\n",
            " 0.20200163 0.19771242 0.19934641 0.19873366 0.1997549  0.2128268\n",
            " 0.21568627 0.20445261 0.21772876 0.21098856 0.21425654 0.19750817\n",
            " 0.18811275 0.17851307 0.17381536 0.16033497 0.16564542 0.17116013\n",
            " 0.17422386 0.18035131 0.17401961 0.16278595 0.16973039 0.17810458\n",
            " 0.17034314 0.16830065 0.17279412 0.17544935 0.18382353 0.19138072\n",
            " 0.18913399 0.19097222 0.17238562 0.16830065 0.1693219  0.17177288\n",
            " 0.16156046 0.14971405 0.1503268  0.15196078 0.14726307 0.14501634\n",
            " 0.14603758 0.12479575 0.13112745 0.11397059 0.1190768  0.12377451\n",
            " 0.13562092 0.12908497 0.13459967 0.12806373 0.13031046 0.12724673\n",
            " 0.13521242 0.14522059 0.15257353 0.14848856 0.14338235 0.14562908\n",
            " 0.15236928 0.15400327 0.14971405 0.1621732  0.16319444 0.16584967\n",
            " 0.16423915 0.16611627 0.16701645 0.16750051 0.16779773 0.16799691\n",
            " 0.1681447  0.16827361 0.16840686 0.16855915]\n",
            "11 day output [[0.16873808]]\n",
            "12 day input [0.14644608 0.14808007 0.15910948 0.15992647 0.15788399 0.16441993\n",
            " 0.17892157 0.17933007 0.19260621 0.20812908 0.18974673 0.18055556\n",
            " 0.18239379 0.17708333 0.17810458 0.18055556 0.17810458 0.17851307\n",
            " 0.19607843 0.18913399 0.18954248 0.19403595 0.19444444 0.20200163\n",
            " 0.19771242 0.19934641 0.19873366 0.1997549  0.2128268  0.21568627\n",
            " 0.20445261 0.21772876 0.21098856 0.21425654 0.19750817 0.18811275\n",
            " 0.17851307 0.17381536 0.16033497 0.16564542 0.17116013 0.17422386\n",
            " 0.18035131 0.17401961 0.16278595 0.16973039 0.17810458 0.17034314\n",
            " 0.16830065 0.17279412 0.17544935 0.18382353 0.19138072 0.18913399\n",
            " 0.19097222 0.17238562 0.16830065 0.1693219  0.17177288 0.16156046\n",
            " 0.14971405 0.1503268  0.15196078 0.14726307 0.14501634 0.14603758\n",
            " 0.12479575 0.13112745 0.11397059 0.1190768  0.12377451 0.13562092\n",
            " 0.12908497 0.13459967 0.12806373 0.13031046 0.12724673 0.13521242\n",
            " 0.14522059 0.15257353 0.14848856 0.14338235 0.14562908 0.15236928\n",
            " 0.15400327 0.14971405 0.1621732  0.16319444 0.16584967 0.16423915\n",
            " 0.16611627 0.16701645 0.16750051 0.16779773 0.16799691 0.1681447\n",
            " 0.16827361 0.16840686 0.16855915 0.16873808]\n",
            "12 day output [[0.16894555]]\n",
            "13 day input [0.14808007 0.15910948 0.15992647 0.15788399 0.16441993 0.17892157\n",
            " 0.17933007 0.19260621 0.20812908 0.18974673 0.18055556 0.18239379\n",
            " 0.17708333 0.17810458 0.18055556 0.17810458 0.17851307 0.19607843\n",
            " 0.18913399 0.18954248 0.19403595 0.19444444 0.20200163 0.19771242\n",
            " 0.19934641 0.19873366 0.1997549  0.2128268  0.21568627 0.20445261\n",
            " 0.21772876 0.21098856 0.21425654 0.19750817 0.18811275 0.17851307\n",
            " 0.17381536 0.16033497 0.16564542 0.17116013 0.17422386 0.18035131\n",
            " 0.17401961 0.16278595 0.16973039 0.17810458 0.17034314 0.16830065\n",
            " 0.17279412 0.17544935 0.18382353 0.19138072 0.18913399 0.19097222\n",
            " 0.17238562 0.16830065 0.1693219  0.17177288 0.16156046 0.14971405\n",
            " 0.1503268  0.15196078 0.14726307 0.14501634 0.14603758 0.12479575\n",
            " 0.13112745 0.11397059 0.1190768  0.12377451 0.13562092 0.12908497\n",
            " 0.13459967 0.12806373 0.13031046 0.12724673 0.13521242 0.14522059\n",
            " 0.15257353 0.14848856 0.14338235 0.14562908 0.15236928 0.15400327\n",
            " 0.14971405 0.1621732  0.16319444 0.16584967 0.16423915 0.16611627\n",
            " 0.16701645 0.16750051 0.16779773 0.16799691 0.1681447  0.16827361\n",
            " 0.16840686 0.16855915 0.16873808 0.16894555]\n",
            "13 day output [[0.16917996]]\n",
            "14 day input [0.15910948 0.15992647 0.15788399 0.16441993 0.17892157 0.17933007\n",
            " 0.19260621 0.20812908 0.18974673 0.18055556 0.18239379 0.17708333\n",
            " 0.17810458 0.18055556 0.17810458 0.17851307 0.19607843 0.18913399\n",
            " 0.18954248 0.19403595 0.19444444 0.20200163 0.19771242 0.19934641\n",
            " 0.19873366 0.1997549  0.2128268  0.21568627 0.20445261 0.21772876\n",
            " 0.21098856 0.21425654 0.19750817 0.18811275 0.17851307 0.17381536\n",
            " 0.16033497 0.16564542 0.17116013 0.17422386 0.18035131 0.17401961\n",
            " 0.16278595 0.16973039 0.17810458 0.17034314 0.16830065 0.17279412\n",
            " 0.17544935 0.18382353 0.19138072 0.18913399 0.19097222 0.17238562\n",
            " 0.16830065 0.1693219  0.17177288 0.16156046 0.14971405 0.1503268\n",
            " 0.15196078 0.14726307 0.14501634 0.14603758 0.12479575 0.13112745\n",
            " 0.11397059 0.1190768  0.12377451 0.13562092 0.12908497 0.13459967\n",
            " 0.12806373 0.13031046 0.12724673 0.13521242 0.14522059 0.15257353\n",
            " 0.14848856 0.14338235 0.14562908 0.15236928 0.15400327 0.14971405\n",
            " 0.1621732  0.16319444 0.16584967 0.16423915 0.16611627 0.16701645\n",
            " 0.16750051 0.16779773 0.16799691 0.1681447  0.16827361 0.16840686\n",
            " 0.16855915 0.16873808 0.16894555 0.16917996]\n",
            "14 day output [[0.16943754]]\n",
            "15 day input [0.15992647 0.15788399 0.16441993 0.17892157 0.17933007 0.19260621\n",
            " 0.20812908 0.18974673 0.18055556 0.18239379 0.17708333 0.17810458\n",
            " 0.18055556 0.17810458 0.17851307 0.19607843 0.18913399 0.18954248\n",
            " 0.19403595 0.19444444 0.20200163 0.19771242 0.19934641 0.19873366\n",
            " 0.1997549  0.2128268  0.21568627 0.20445261 0.21772876 0.21098856\n",
            " 0.21425654 0.19750817 0.18811275 0.17851307 0.17381536 0.16033497\n",
            " 0.16564542 0.17116013 0.17422386 0.18035131 0.17401961 0.16278595\n",
            " 0.16973039 0.17810458 0.17034314 0.16830065 0.17279412 0.17544935\n",
            " 0.18382353 0.19138072 0.18913399 0.19097222 0.17238562 0.16830065\n",
            " 0.1693219  0.17177288 0.16156046 0.14971405 0.1503268  0.15196078\n",
            " 0.14726307 0.14501634 0.14603758 0.12479575 0.13112745 0.11397059\n",
            " 0.1190768  0.12377451 0.13562092 0.12908497 0.13459967 0.12806373\n",
            " 0.13031046 0.12724673 0.13521242 0.14522059 0.15257353 0.14848856\n",
            " 0.14338235 0.14562908 0.15236928 0.15400327 0.14971405 0.1621732\n",
            " 0.16319444 0.16584967 0.16423915 0.16611627 0.16701645 0.16750051\n",
            " 0.16779773 0.16799691 0.1681447  0.16827361 0.16840686 0.16855915\n",
            " 0.16873808 0.16894555 0.16917996 0.16943754]\n",
            "15 day output [[0.16971354]]\n",
            "16 day input [0.15788399 0.16441993 0.17892157 0.17933007 0.19260621 0.20812908\n",
            " 0.18974673 0.18055556 0.18239379 0.17708333 0.17810458 0.18055556\n",
            " 0.17810458 0.17851307 0.19607843 0.18913399 0.18954248 0.19403595\n",
            " 0.19444444 0.20200163 0.19771242 0.19934641 0.19873366 0.1997549\n",
            " 0.2128268  0.21568627 0.20445261 0.21772876 0.21098856 0.21425654\n",
            " 0.19750817 0.18811275 0.17851307 0.17381536 0.16033497 0.16564542\n",
            " 0.17116013 0.17422386 0.18035131 0.17401961 0.16278595 0.16973039\n",
            " 0.17810458 0.17034314 0.16830065 0.17279412 0.17544935 0.18382353\n",
            " 0.19138072 0.18913399 0.19097222 0.17238562 0.16830065 0.1693219\n",
            " 0.17177288 0.16156046 0.14971405 0.1503268  0.15196078 0.14726307\n",
            " 0.14501634 0.14603758 0.12479575 0.13112745 0.11397059 0.1190768\n",
            " 0.12377451 0.13562092 0.12908497 0.13459967 0.12806373 0.13031046\n",
            " 0.12724673 0.13521242 0.14522059 0.15257353 0.14848856 0.14338235\n",
            " 0.14562908 0.15236928 0.15400327 0.14971405 0.1621732  0.16319444\n",
            " 0.16584967 0.16423915 0.16611627 0.16701645 0.16750051 0.16779773\n",
            " 0.16799691 0.1681447  0.16827361 0.16840686 0.16855915 0.16873808\n",
            " 0.16894555 0.16917996 0.16943754 0.16971354]\n",
            "16 day output [[0.17000344]]\n",
            "17 day input [0.16441993 0.17892157 0.17933007 0.19260621 0.20812908 0.18974673\n",
            " 0.18055556 0.18239379 0.17708333 0.17810458 0.18055556 0.17810458\n",
            " 0.17851307 0.19607843 0.18913399 0.18954248 0.19403595 0.19444444\n",
            " 0.20200163 0.19771242 0.19934641 0.19873366 0.1997549  0.2128268\n",
            " 0.21568627 0.20445261 0.21772876 0.21098856 0.21425654 0.19750817\n",
            " 0.18811275 0.17851307 0.17381536 0.16033497 0.16564542 0.17116013\n",
            " 0.17422386 0.18035131 0.17401961 0.16278595 0.16973039 0.17810458\n",
            " 0.17034314 0.16830065 0.17279412 0.17544935 0.18382353 0.19138072\n",
            " 0.18913399 0.19097222 0.17238562 0.16830065 0.1693219  0.17177288\n",
            " 0.16156046 0.14971405 0.1503268  0.15196078 0.14726307 0.14501634\n",
            " 0.14603758 0.12479575 0.13112745 0.11397059 0.1190768  0.12377451\n",
            " 0.13562092 0.12908497 0.13459967 0.12806373 0.13031046 0.12724673\n",
            " 0.13521242 0.14522059 0.15257353 0.14848856 0.14338235 0.14562908\n",
            " 0.15236928 0.15400327 0.14971405 0.1621732  0.16319444 0.16584967\n",
            " 0.16423915 0.16611627 0.16701645 0.16750051 0.16779773 0.16799691\n",
            " 0.1681447  0.16827361 0.16840686 0.16855915 0.16873808 0.16894555\n",
            " 0.16917996 0.16943754 0.16971354 0.17000344]\n",
            "17 day output [[0.17030314]]\n",
            "18 day input [0.17892157 0.17933007 0.19260621 0.20812908 0.18974673 0.18055556\n",
            " 0.18239379 0.17708333 0.17810458 0.18055556 0.17810458 0.17851307\n",
            " 0.19607843 0.18913399 0.18954248 0.19403595 0.19444444 0.20200163\n",
            " 0.19771242 0.19934641 0.19873366 0.1997549  0.2128268  0.21568627\n",
            " 0.20445261 0.21772876 0.21098856 0.21425654 0.19750817 0.18811275\n",
            " 0.17851307 0.17381536 0.16033497 0.16564542 0.17116013 0.17422386\n",
            " 0.18035131 0.17401961 0.16278595 0.16973039 0.17810458 0.17034314\n",
            " 0.16830065 0.17279412 0.17544935 0.18382353 0.19138072 0.18913399\n",
            " 0.19097222 0.17238562 0.16830065 0.1693219  0.17177288 0.16156046\n",
            " 0.14971405 0.1503268  0.15196078 0.14726307 0.14501634 0.14603758\n",
            " 0.12479575 0.13112745 0.11397059 0.1190768  0.12377451 0.13562092\n",
            " 0.12908497 0.13459967 0.12806373 0.13031046 0.12724673 0.13521242\n",
            " 0.14522059 0.15257353 0.14848856 0.14338235 0.14562908 0.15236928\n",
            " 0.15400327 0.14971405 0.1621732  0.16319444 0.16584967 0.16423915\n",
            " 0.16611627 0.16701645 0.16750051 0.16779773 0.16799691 0.1681447\n",
            " 0.16827361 0.16840686 0.16855915 0.16873808 0.16894555 0.16917996\n",
            " 0.16943754 0.16971354 0.17000344 0.17030314]\n",
            "18 day output [[0.17060933]]\n",
            "19 day input [0.17933007 0.19260621 0.20812908 0.18974673 0.18055556 0.18239379\n",
            " 0.17708333 0.17810458 0.18055556 0.17810458 0.17851307 0.19607843\n",
            " 0.18913399 0.18954248 0.19403595 0.19444444 0.20200163 0.19771242\n",
            " 0.19934641 0.19873366 0.1997549  0.2128268  0.21568627 0.20445261\n",
            " 0.21772876 0.21098856 0.21425654 0.19750817 0.18811275 0.17851307\n",
            " 0.17381536 0.16033497 0.16564542 0.17116013 0.17422386 0.18035131\n",
            " 0.17401961 0.16278595 0.16973039 0.17810458 0.17034314 0.16830065\n",
            " 0.17279412 0.17544935 0.18382353 0.19138072 0.18913399 0.19097222\n",
            " 0.17238562 0.16830065 0.1693219  0.17177288 0.16156046 0.14971405\n",
            " 0.1503268  0.15196078 0.14726307 0.14501634 0.14603758 0.12479575\n",
            " 0.13112745 0.11397059 0.1190768  0.12377451 0.13562092 0.12908497\n",
            " 0.13459967 0.12806373 0.13031046 0.12724673 0.13521242 0.14522059\n",
            " 0.15257353 0.14848856 0.14338235 0.14562908 0.15236928 0.15400327\n",
            " 0.14971405 0.1621732  0.16319444 0.16584967 0.16423915 0.16611627\n",
            " 0.16701645 0.16750051 0.16779773 0.16799691 0.1681447  0.16827361\n",
            " 0.16840686 0.16855915 0.16873808 0.16894555 0.16917996 0.16943754\n",
            " 0.16971354 0.17000344 0.17030314 0.17060933]\n",
            "19 day output [[0.17091964]]\n",
            "20 day input [0.19260621 0.20812908 0.18974673 0.18055556 0.18239379 0.17708333\n",
            " 0.17810458 0.18055556 0.17810458 0.17851307 0.19607843 0.18913399\n",
            " 0.18954248 0.19403595 0.19444444 0.20200163 0.19771242 0.19934641\n",
            " 0.19873366 0.1997549  0.2128268  0.21568627 0.20445261 0.21772876\n",
            " 0.21098856 0.21425654 0.19750817 0.18811275 0.17851307 0.17381536\n",
            " 0.16033497 0.16564542 0.17116013 0.17422386 0.18035131 0.17401961\n",
            " 0.16278595 0.16973039 0.17810458 0.17034314 0.16830065 0.17279412\n",
            " 0.17544935 0.18382353 0.19138072 0.18913399 0.19097222 0.17238562\n",
            " 0.16830065 0.1693219  0.17177288 0.16156046 0.14971405 0.1503268\n",
            " 0.15196078 0.14726307 0.14501634 0.14603758 0.12479575 0.13112745\n",
            " 0.11397059 0.1190768  0.12377451 0.13562092 0.12908497 0.13459967\n",
            " 0.12806373 0.13031046 0.12724673 0.13521242 0.14522059 0.15257353\n",
            " 0.14848856 0.14338235 0.14562908 0.15236928 0.15400327 0.14971405\n",
            " 0.1621732  0.16319444 0.16584967 0.16423915 0.16611627 0.16701645\n",
            " 0.16750051 0.16779773 0.16799691 0.1681447  0.16827361 0.16840686\n",
            " 0.16855915 0.16873808 0.16894555 0.16917996 0.16943754 0.16971354\n",
            " 0.17000344 0.17030314 0.17060933 0.17091964]\n",
            "20 day output [[0.1712326]]\n",
            "21 day input [0.20812908 0.18974673 0.18055556 0.18239379 0.17708333 0.17810458\n",
            " 0.18055556 0.17810458 0.17851307 0.19607843 0.18913399 0.18954248\n",
            " 0.19403595 0.19444444 0.20200163 0.19771242 0.19934641 0.19873366\n",
            " 0.1997549  0.2128268  0.21568627 0.20445261 0.21772876 0.21098856\n",
            " 0.21425654 0.19750817 0.18811275 0.17851307 0.17381536 0.16033497\n",
            " 0.16564542 0.17116013 0.17422386 0.18035131 0.17401961 0.16278595\n",
            " 0.16973039 0.17810458 0.17034314 0.16830065 0.17279412 0.17544935\n",
            " 0.18382353 0.19138072 0.18913399 0.19097222 0.17238562 0.16830065\n",
            " 0.1693219  0.17177288 0.16156046 0.14971405 0.1503268  0.15196078\n",
            " 0.14726307 0.14501634 0.14603758 0.12479575 0.13112745 0.11397059\n",
            " 0.1190768  0.12377451 0.13562092 0.12908497 0.13459967 0.12806373\n",
            " 0.13031046 0.12724673 0.13521242 0.14522059 0.15257353 0.14848856\n",
            " 0.14338235 0.14562908 0.15236928 0.15400327 0.14971405 0.1621732\n",
            " 0.16319444 0.16584967 0.16423915 0.16611627 0.16701645 0.16750051\n",
            " 0.16779773 0.16799691 0.1681447  0.16827361 0.16840686 0.16855915\n",
            " 0.16873808 0.16894555 0.16917996 0.16943754 0.16971354 0.17000344\n",
            " 0.17030314 0.17060933 0.17091964 0.1712326 ]\n",
            "21 day output [[0.1715473]]\n",
            "22 day input [0.18974673 0.18055556 0.18239379 0.17708333 0.17810458 0.18055556\n",
            " 0.17810458 0.17851307 0.19607843 0.18913399 0.18954248 0.19403595\n",
            " 0.19444444 0.20200163 0.19771242 0.19934641 0.19873366 0.1997549\n",
            " 0.2128268  0.21568627 0.20445261 0.21772876 0.21098856 0.21425654\n",
            " 0.19750817 0.18811275 0.17851307 0.17381536 0.16033497 0.16564542\n",
            " 0.17116013 0.17422386 0.18035131 0.17401961 0.16278595 0.16973039\n",
            " 0.17810458 0.17034314 0.16830065 0.17279412 0.17544935 0.18382353\n",
            " 0.19138072 0.18913399 0.19097222 0.17238562 0.16830065 0.1693219\n",
            " 0.17177288 0.16156046 0.14971405 0.1503268  0.15196078 0.14726307\n",
            " 0.14501634 0.14603758 0.12479575 0.13112745 0.11397059 0.1190768\n",
            " 0.12377451 0.13562092 0.12908497 0.13459967 0.12806373 0.13031046\n",
            " 0.12724673 0.13521242 0.14522059 0.15257353 0.14848856 0.14338235\n",
            " 0.14562908 0.15236928 0.15400327 0.14971405 0.1621732  0.16319444\n",
            " 0.16584967 0.16423915 0.16611627 0.16701645 0.16750051 0.16779773\n",
            " 0.16799691 0.1681447  0.16827361 0.16840686 0.16855915 0.16873808\n",
            " 0.16894555 0.16917996 0.16943754 0.16971354 0.17000344 0.17030314\n",
            " 0.17060933 0.17091964 0.1712326  0.17154729]\n",
            "22 day output [[0.17186311]]\n",
            "23 day input [0.18055556 0.18239379 0.17708333 0.17810458 0.18055556 0.17810458\n",
            " 0.17851307 0.19607843 0.18913399 0.18954248 0.19403595 0.19444444\n",
            " 0.20200163 0.19771242 0.19934641 0.19873366 0.1997549  0.2128268\n",
            " 0.21568627 0.20445261 0.21772876 0.21098856 0.21425654 0.19750817\n",
            " 0.18811275 0.17851307 0.17381536 0.16033497 0.16564542 0.17116013\n",
            " 0.17422386 0.18035131 0.17401961 0.16278595 0.16973039 0.17810458\n",
            " 0.17034314 0.16830065 0.17279412 0.17544935 0.18382353 0.19138072\n",
            " 0.18913399 0.19097222 0.17238562 0.16830065 0.1693219  0.17177288\n",
            " 0.16156046 0.14971405 0.1503268  0.15196078 0.14726307 0.14501634\n",
            " 0.14603758 0.12479575 0.13112745 0.11397059 0.1190768  0.12377451\n",
            " 0.13562092 0.12908497 0.13459967 0.12806373 0.13031046 0.12724673\n",
            " 0.13521242 0.14522059 0.15257353 0.14848856 0.14338235 0.14562908\n",
            " 0.15236928 0.15400327 0.14971405 0.1621732  0.16319444 0.16584967\n",
            " 0.16423915 0.16611627 0.16701645 0.16750051 0.16779773 0.16799691\n",
            " 0.1681447  0.16827361 0.16840686 0.16855915 0.16873808 0.16894555\n",
            " 0.16917996 0.16943754 0.16971354 0.17000344 0.17030314 0.17060933\n",
            " 0.17091964 0.1712326  0.17154729 0.17186311]\n",
            "23 day output [[0.17218003]]\n",
            "24 day input [0.18239379 0.17708333 0.17810458 0.18055556 0.17810458 0.17851307\n",
            " 0.19607843 0.18913399 0.18954248 0.19403595 0.19444444 0.20200163\n",
            " 0.19771242 0.19934641 0.19873366 0.1997549  0.2128268  0.21568627\n",
            " 0.20445261 0.21772876 0.21098856 0.21425654 0.19750817 0.18811275\n",
            " 0.17851307 0.17381536 0.16033497 0.16564542 0.17116013 0.17422386\n",
            " 0.18035131 0.17401961 0.16278595 0.16973039 0.17810458 0.17034314\n",
            " 0.16830065 0.17279412 0.17544935 0.18382353 0.19138072 0.18913399\n",
            " 0.19097222 0.17238562 0.16830065 0.1693219  0.17177288 0.16156046\n",
            " 0.14971405 0.1503268  0.15196078 0.14726307 0.14501634 0.14603758\n",
            " 0.12479575 0.13112745 0.11397059 0.1190768  0.12377451 0.13562092\n",
            " 0.12908497 0.13459967 0.12806373 0.13031046 0.12724673 0.13521242\n",
            " 0.14522059 0.15257353 0.14848856 0.14338235 0.14562908 0.15236928\n",
            " 0.15400327 0.14971405 0.1621732  0.16319444 0.16584967 0.16423915\n",
            " 0.16611627 0.16701645 0.16750051 0.16779773 0.16799691 0.1681447\n",
            " 0.16827361 0.16840686 0.16855915 0.16873808 0.16894555 0.16917996\n",
            " 0.16943754 0.16971354 0.17000344 0.17030314 0.17060933 0.17091964\n",
            " 0.1712326  0.17154729 0.17186311 0.17218003]\n",
            "24 day output [[0.17249788]]\n",
            "25 day input [0.17708333 0.17810458 0.18055556 0.17810458 0.17851307 0.19607843\n",
            " 0.18913399 0.18954248 0.19403595 0.19444444 0.20200163 0.19771242\n",
            " 0.19934641 0.19873366 0.1997549  0.2128268  0.21568627 0.20445261\n",
            " 0.21772876 0.21098856 0.21425654 0.19750817 0.18811275 0.17851307\n",
            " 0.17381536 0.16033497 0.16564542 0.17116013 0.17422386 0.18035131\n",
            " 0.17401961 0.16278595 0.16973039 0.17810458 0.17034314 0.16830065\n",
            " 0.17279412 0.17544935 0.18382353 0.19138072 0.18913399 0.19097222\n",
            " 0.17238562 0.16830065 0.1693219  0.17177288 0.16156046 0.14971405\n",
            " 0.1503268  0.15196078 0.14726307 0.14501634 0.14603758 0.12479575\n",
            " 0.13112745 0.11397059 0.1190768  0.12377451 0.13562092 0.12908497\n",
            " 0.13459967 0.12806373 0.13031046 0.12724673 0.13521242 0.14522059\n",
            " 0.15257353 0.14848856 0.14338235 0.14562908 0.15236928 0.15400327\n",
            " 0.14971405 0.1621732  0.16319444 0.16584967 0.16423915 0.16611627\n",
            " 0.16701645 0.16750051 0.16779773 0.16799691 0.1681447  0.16827361\n",
            " 0.16840686 0.16855915 0.16873808 0.16894555 0.16917996 0.16943754\n",
            " 0.16971354 0.17000344 0.17030314 0.17060933 0.17091964 0.1712326\n",
            " 0.17154729 0.17186311 0.17218003 0.17249788]\n",
            "25 day output [[0.17281644]]\n",
            "26 day input [0.17810458 0.18055556 0.17810458 0.17851307 0.19607843 0.18913399\n",
            " 0.18954248 0.19403595 0.19444444 0.20200163 0.19771242 0.19934641\n",
            " 0.19873366 0.1997549  0.2128268  0.21568627 0.20445261 0.21772876\n",
            " 0.21098856 0.21425654 0.19750817 0.18811275 0.17851307 0.17381536\n",
            " 0.16033497 0.16564542 0.17116013 0.17422386 0.18035131 0.17401961\n",
            " 0.16278595 0.16973039 0.17810458 0.17034314 0.16830065 0.17279412\n",
            " 0.17544935 0.18382353 0.19138072 0.18913399 0.19097222 0.17238562\n",
            " 0.16830065 0.1693219  0.17177288 0.16156046 0.14971405 0.1503268\n",
            " 0.15196078 0.14726307 0.14501634 0.14603758 0.12479575 0.13112745\n",
            " 0.11397059 0.1190768  0.12377451 0.13562092 0.12908497 0.13459967\n",
            " 0.12806373 0.13031046 0.12724673 0.13521242 0.14522059 0.15257353\n",
            " 0.14848856 0.14338235 0.14562908 0.15236928 0.15400327 0.14971405\n",
            " 0.1621732  0.16319444 0.16584967 0.16423915 0.16611627 0.16701645\n",
            " 0.16750051 0.16779773 0.16799691 0.1681447  0.16827361 0.16840686\n",
            " 0.16855915 0.16873808 0.16894555 0.16917996 0.16943754 0.16971354\n",
            " 0.17000344 0.17030314 0.17060933 0.17091964 0.1712326  0.17154729\n",
            " 0.17186311 0.17218003 0.17249788 0.17281644]\n",
            "26 day output [[0.17313553]]\n",
            "27 day input [0.18055556 0.17810458 0.17851307 0.19607843 0.18913399 0.18954248\n",
            " 0.19403595 0.19444444 0.20200163 0.19771242 0.19934641 0.19873366\n",
            " 0.1997549  0.2128268  0.21568627 0.20445261 0.21772876 0.21098856\n",
            " 0.21425654 0.19750817 0.18811275 0.17851307 0.17381536 0.16033497\n",
            " 0.16564542 0.17116013 0.17422386 0.18035131 0.17401961 0.16278595\n",
            " 0.16973039 0.17810458 0.17034314 0.16830065 0.17279412 0.17544935\n",
            " 0.18382353 0.19138072 0.18913399 0.19097222 0.17238562 0.16830065\n",
            " 0.1693219  0.17177288 0.16156046 0.14971405 0.1503268  0.15196078\n",
            " 0.14726307 0.14501634 0.14603758 0.12479575 0.13112745 0.11397059\n",
            " 0.1190768  0.12377451 0.13562092 0.12908497 0.13459967 0.12806373\n",
            " 0.13031046 0.12724673 0.13521242 0.14522059 0.15257353 0.14848856\n",
            " 0.14338235 0.14562908 0.15236928 0.15400327 0.14971405 0.1621732\n",
            " 0.16319444 0.16584967 0.16423915 0.16611627 0.16701645 0.16750051\n",
            " 0.16779773 0.16799691 0.1681447  0.16827361 0.16840686 0.16855915\n",
            " 0.16873808 0.16894555 0.16917996 0.16943754 0.16971354 0.17000344\n",
            " 0.17030314 0.17060933 0.17091964 0.1712326  0.17154729 0.17186311\n",
            " 0.17218003 0.17249788 0.17281644 0.17313553]\n",
            "27 day output [[0.17345463]]\n",
            "28 day input [0.17810458 0.17851307 0.19607843 0.18913399 0.18954248 0.19403595\n",
            " 0.19444444 0.20200163 0.19771242 0.19934641 0.19873366 0.1997549\n",
            " 0.2128268  0.21568627 0.20445261 0.21772876 0.21098856 0.21425654\n",
            " 0.19750817 0.18811275 0.17851307 0.17381536 0.16033497 0.16564542\n",
            " 0.17116013 0.17422386 0.18035131 0.17401961 0.16278595 0.16973039\n",
            " 0.17810458 0.17034314 0.16830065 0.17279412 0.17544935 0.18382353\n",
            " 0.19138072 0.18913399 0.19097222 0.17238562 0.16830065 0.1693219\n",
            " 0.17177288 0.16156046 0.14971405 0.1503268  0.15196078 0.14726307\n",
            " 0.14501634 0.14603758 0.12479575 0.13112745 0.11397059 0.1190768\n",
            " 0.12377451 0.13562092 0.12908497 0.13459967 0.12806373 0.13031046\n",
            " 0.12724673 0.13521242 0.14522059 0.15257353 0.14848856 0.14338235\n",
            " 0.14562908 0.15236928 0.15400327 0.14971405 0.1621732  0.16319444\n",
            " 0.16584967 0.16423915 0.16611627 0.16701645 0.16750051 0.16779773\n",
            " 0.16799691 0.1681447  0.16827361 0.16840686 0.16855915 0.16873808\n",
            " 0.16894555 0.16917996 0.16943754 0.16971354 0.17000344 0.17030314\n",
            " 0.17060933 0.17091964 0.1712326  0.17154729 0.17186311 0.17218003\n",
            " 0.17249788 0.17281644 0.17313553 0.17345463]\n",
            "28 day output [[0.17377314]]\n",
            "29 day input [0.17851307 0.19607843 0.18913399 0.18954248 0.19403595 0.19444444\n",
            " 0.20200163 0.19771242 0.19934641 0.19873366 0.1997549  0.2128268\n",
            " 0.21568627 0.20445261 0.21772876 0.21098856 0.21425654 0.19750817\n",
            " 0.18811275 0.17851307 0.17381536 0.16033497 0.16564542 0.17116013\n",
            " 0.17422386 0.18035131 0.17401961 0.16278595 0.16973039 0.17810458\n",
            " 0.17034314 0.16830065 0.17279412 0.17544935 0.18382353 0.19138072\n",
            " 0.18913399 0.19097222 0.17238562 0.16830065 0.1693219  0.17177288\n",
            " 0.16156046 0.14971405 0.1503268  0.15196078 0.14726307 0.14501634\n",
            " 0.14603758 0.12479575 0.13112745 0.11397059 0.1190768  0.12377451\n",
            " 0.13562092 0.12908497 0.13459967 0.12806373 0.13031046 0.12724673\n",
            " 0.13521242 0.14522059 0.15257353 0.14848856 0.14338235 0.14562908\n",
            " 0.15236928 0.15400327 0.14971405 0.1621732  0.16319444 0.16584967\n",
            " 0.16423915 0.16611627 0.16701645 0.16750051 0.16779773 0.16799691\n",
            " 0.1681447  0.16827361 0.16840686 0.16855915 0.16873808 0.16894555\n",
            " 0.16917996 0.16943754 0.16971354 0.17000344 0.17030314 0.17060933\n",
            " 0.17091964 0.1712326  0.17154729 0.17186311 0.17218003 0.17249788\n",
            " 0.17281644 0.17313553 0.17345463 0.17377314]\n",
            "29 day output [[0.17409036]]\n",
            "30 day input [0.19607843 0.18913399 0.18954248 0.19403595 0.19444444 0.20200163\n",
            " 0.19771242 0.19934641 0.19873366 0.1997549  0.2128268  0.21568627\n",
            " 0.20445261 0.21772876 0.21098856 0.21425654 0.19750817 0.18811275\n",
            " 0.17851307 0.17381536 0.16033497 0.16564542 0.17116013 0.17422386\n",
            " 0.18035131 0.17401961 0.16278595 0.16973039 0.17810458 0.17034314\n",
            " 0.16830065 0.17279412 0.17544935 0.18382353 0.19138072 0.18913399\n",
            " 0.19097222 0.17238562 0.16830065 0.1693219  0.17177288 0.16156046\n",
            " 0.14971405 0.1503268  0.15196078 0.14726307 0.14501634 0.14603758\n",
            " 0.12479575 0.13112745 0.11397059 0.1190768  0.12377451 0.13562092\n",
            " 0.12908497 0.13459967 0.12806373 0.13031046 0.12724673 0.13521242\n",
            " 0.14522059 0.15257353 0.14848856 0.14338235 0.14562908 0.15236928\n",
            " 0.15400327 0.14971405 0.1621732  0.16319444 0.16584967 0.16423915\n",
            " 0.16611627 0.16701645 0.16750051 0.16779773 0.16799691 0.1681447\n",
            " 0.16827361 0.16840686 0.16855915 0.16873808 0.16894555 0.16917996\n",
            " 0.16943754 0.16971354 0.17000344 0.17030314 0.17060933 0.17091964\n",
            " 0.1712326  0.17154729 0.17186311 0.17218003 0.17249788 0.17281644\n",
            " 0.17313553 0.17345463 0.17377314 0.17409036]\n",
            "30 day output [[0.17440543]]\n",
            "[[0.16423915326595306], [0.16611626744270325], [0.16701644659042358], [0.16750051081180573], [0.1677977293729782], [0.16799691319465637], [0.16814470291137695], [0.16827361285686493], [0.16840685904026031], [0.16855914890766144], [0.16873808205127716], [0.1689455509185791], [0.16917996108531952], [0.16943754255771637], [0.16971354186534882], [0.17000344395637512], [0.1703031361103058], [0.17060932517051697], [0.17091964185237885], [0.17123259603977203], [0.1715472936630249], [0.1718631088733673], [0.17218002676963806], [0.17249788343906403], [0.1728164404630661], [0.17313553392887115], [0.1734546273946762], [0.1737731397151947], [0.17409035563468933], [0.17440542578697205]]\n"
          ]
        }
      ]
    },
    {
      "cell_type": "code",
      "metadata": {
        "colab": {
          "base_uri": "https://localhost:8080/",
          "height": 282
        },
        "id": "nHDnZD8zcYj4",
        "outputId": "966906fc-b977-47e0-915c-49b1b50e4603"
      },
      "source": [
        "stock_data = stock_data1.tolist()\n",
        "stock_data.extend(final_output)\n",
        "stock_data = scaler.inverse_transform(stock_data).tolist()\n",
        "plt.plot(stock_data)"
      ],
      "execution_count": 32,
      "outputs": [
        {
          "output_type": "execute_result",
          "data": {
            "text/plain": [
              "[<matplotlib.lines.Line2D at 0x7fe0133d21d0>]"
            ]
          },
          "metadata": {},
          "execution_count": 32
        },
        {
          "output_type": "display_data",
          "data": {
            "image/png": "[encoded data removed]",
            "text/plain": [
              "<Figure size 432x288 with 1 Axes>"
            ]
          },
          "metadata": {
            "needs_background": "light"
          }
        }
      ]
    }
  ]
}